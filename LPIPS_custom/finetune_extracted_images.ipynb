{
 "cells": [
  {
   "cell_type": "code",
   "execution_count": 9,
   "id": "57592d10",
   "metadata": {},
   "outputs": [],
   "source": [
    "import pandas as pd\n",
    "import matplotlib.pyplot as plt\n",
    "import os\n",
    "import cv2\n",
    "import numpy as np\n"
   ]
  },
  {
   "cell_type": "code",
   "execution_count": 10,
   "id": "53f3504f",
   "metadata": {},
   "outputs": [
    {
     "name": "stdout",
     "output_type": "stream",
     "text": [
      "\n",
      "Results from CSV:\n",
      "\n",
      "Minimum and Maximum Coefficients:\n",
      "cd_percent_diff: -23.202029  39.786285\n",
      "cl_percent_diff: -300.309539  73.738826\n",
      "p_drag_diff_percent: -481.123633  597.206932\n",
      "nut_drag_diff_percent: -7.914196  1.381432\n",
      "\n",
      "Bin Values: 4\n",
      "p: -121.680111  237.763411\n",
      "nut: -4.815653  -1.717111\n",
      "ux: -2.205924  18.790180\n",
      "uy: -175.626750  -50.943962\n"
     ]
    }
   ],
   "source": [
    "import pandas as pd\n",
    "scalar_vals_path = '../coefficient_comparison_results.csv'\n",
    "results_df = pd.read_csv(scalar_vals_path)\n",
    "print(\"\\nResults from CSV:\")\n",
    "results_df.head()\n",
    "# get min max of drag and lift coefficients percentage sample,remeshed_cd,clipped_cd,reference_cd,cd_diff_percent,remeshed_cl,clipped_cl,reference_cl,cl_diff_percent,remeshed_pressure_drag,clipped_pressure_drag,pressure_drag_diff_percent,remeshed_viscous_drag,clipped_viscous_drag,viscous_drag_diff_percent\n",
    "def get_min_max_coefficients(results_df):\n",
    "    \"\"\"\n",
    "    Get the minimum and maximum coefficients from the results DataFrame.\n",
    "    \n",
    "    Args:\n",
    "        results_df (pd.DataFrame): DataFrame containing coefficient results.\n",
    "\n",
    "    Returns:\n",
    "        dict: Dictionary with min and max values for each coefficient.\n",
    "    \"\"\" \n",
    "    coefficients = { \n",
    "        'cd_percent_diff': (results_df['cd_diff_percent'].min(), results_df['cd_diff_percent'].max()),\n",
    "        'cl_percent_diff': (results_df['cl_diff_percent'].min(), results_df['cl_diff_percent'].max()), \n",
    "        'p_drag_diff_percent': (results_df['pressure_drag_diff_percent'].min(), results_df['pressure_drag_diff_percent'].max()),\n",
    "        'nut_drag_diff_percent': (results_df['viscous_drag_diff_percent'].min(), results_df['viscous_drag_diff_percent'].max())\n",
    "    }\n",
    "    return coefficients\n",
    "\n",
    "min_max_coeffs = get_min_max_coefficients(results_df)\n",
    "print(\"\\nMinimum and Maximum Coefficients:\")\n",
    "\n",
    "bin_values = { 'p': [], 'nut': [], 'ux': [], 'uy': []}\n",
    "\n",
    "scalar_keys = ['cd', 'cl', 'pressure_drag', 'viscous_drag']\n",
    "scalar_key_mapped_to_field = ['ux', 'uy', 'p', 'nut']\n",
    "\n",
    "for key, value in min_max_coeffs.items():\n",
    "    print(f\"{key}: {value[0]:.6f}  {value[1]:.6f}\")\n",
    "    min_value, max_value = value\n",
    "    # divide them into 3 bins\n",
    "    low_bin = min_value + (max_value - min_value) / 3\n",
    "    high_bin = min_value + 2 * (max_value - min_value) / 3\n",
    "    if key == 'cd_percent_diff':\n",
    "        bin_values['ux'] = (low_bin, high_bin)\n",
    "    elif key == 'cl_percent_diff':\n",
    "        bin_values['uy'] = (low_bin, high_bin)\n",
    "    elif key == 'p_drag_diff_percent':\n",
    "        bin_values['p'] = (low_bin, high_bin)\n",
    "    elif key == 'nut_drag_diff_percent':\n",
    "        bin_values['nut'] = (low_bin, high_bin)\n",
    "\n",
    "print(f\"\\nBin Values: {len(bin_values)}\") \n",
    "for key, value in bin_values.items():\n",
    "    print(f\"{key}: {value[0]:.6f}  {value[1]:.6f}\")\n",
    "\n",
    "def set_bin(field_type, index):\n",
    "    low, high = bin_values[field_type]\n",
    "    scalar_key = scalar_keys[scalar_key_mapped_to_field.index(field_type)]\n",
    "    scalar_row = results_df.loc[index]\n",
    "    if scalar_row[scalar_key + '_diff_percent'] is None:\n",
    "        raise ValueError(f\"Missing value for {scalar_key}_diff_percent at index {index}\")\n",
    "    value = scalar_row[scalar_key + '_diff_percent']\n",
    "    if value < low:\n",
    "        return 'low'\n",
    "    elif value < high:\n",
    "        return 'medium'\n",
    "    else:\n",
    "        return 'high'\n",
    "\n",
    "# ux = cd_diff_percent, uy = cl_diff_percent, p = pressure_drag_diff_percent, nut = viscous_drag_diff_percent\n"
   ]
  },
  {
   "cell_type": "code",
   "execution_count": 11,
   "id": "f850a6c9",
   "metadata": {},
   "outputs": [
    {
     "name": "stdout",
     "output_type": "stream",
     "text": [
      "Scalar values loaded from ../coefficient_comparison_results.csv\n"
     ]
    }
   ],
   "source": [
    "def load_data(data_frame: pd.DataFrame):\n",
    "    \"\"\"\n",
    "    Loads images and their corresponding labels.\n",
    "    \"\"\" \n",
    "    if os.path.exists(scalar_vals_path):\n",
    "        scalar_vals_df = pd.read_csv(scalar_vals_path)\n",
    "        scalar_vals_df.set_index('sample', inplace=True)\n",
    "        print(f\"Scalar values loaded from {scalar_vals_path}\")\n",
    "    else:\n",
    "        raise FileNotFoundError(f\"Scalar values file not found at {scalar_vals_path}\")\n",
    "    image_names = []\n",
    "    images = []\n",
    "    labels = [] \n",
    "    for index, row in data_frame.iterrows():\n",
    "        for img_type in ['p', 'nut', 'ux', 'uy']:\n",
    "            image_name = row[f'{img_type}_path']\n",
    "            val_bin = set_bin(img_type, index)\n",
    "            clipped_img_path = os.path.join('./raw_data_images', 'images', image_name)\n",
    "            label = \"_\".join(image_name.split('_')[1:]).split('.')[0]  # Extract label from the filename\n",
    "            if clipped_img_path and os.path.isfile(clipped_img_path):\n",
    "                img = cv2.imread(clipped_img_path)\n",
    "                if img is not None:\n",
    "                    img = cv2.resize(img, (224, 224)).astype('float32') \n",
    "                    images.append(img)\n",
    "                    # labels.append(row[f'{img_type}_label']) \n",
    "                    labels.append((img_type, 'clipped', val_bin))  # Store the type, clipped/remeshed, and bin value\n",
    "                    image_names.append(image_name)\n",
    "                else:\n",
    "                    print(f\"Warning: Unable to read image at {clipped_img_path}. Skipping this image.\")\n",
    "\n",
    "            # if 0_clipped_p.png and remeshed will be 0_remeshed_p.png replace with 0_clipped_p.png\n",
    "            remeshed_img_path = clipped_img_path.replace('_clipped_', '_remeshed_')\n",
    "            if remeshed_img_path and os.path.isfile(remeshed_img_path):\n",
    "                remeshed_img = cv2.imread(remeshed_img_path)\n",
    "                if remeshed_img is not None:\n",
    "                    remeshed_img = cv2.resize(remeshed_img, (224, 224)).astype('float32')\n",
    "                    images.append(remeshed_img)\n",
    "                    # remeshed_labels.append(row[f'{img_type}_label']) \n",
    "                    # remeshed_label = label.replace('clipped_', 'remeshed_')\n",
    "                    labels.append((img_type, 'remeshed', val_bin))\n",
    "                    image_names.append(image_name.replace('_clipped_', '_remeshed_'))\n",
    "                else:\n",
    "                    print(f\"Warning: Unable to read remeshed image at {remeshed_img_path}. Skipping this image.\")\n",
    "            else:\n",
    "                print(f\"Warning: Image path {clipped_img_path} does not exist or is not a file. Skipping this image.\")\n",
    "\n",
    "    return np.array(images), np.array(labels), image_names\n",
    "\n",
    "#read the csv file meshdatasummery.csv as df\n",
    "datadf = pd.read_csv('./raw_data_images/mesh_data_summary.csv')\n",
    "\n",
    "images, labels, image_names = load_data(datadf)"
   ]
  },
  {
   "cell_type": "code",
   "execution_count": 12,
   "id": "358d42af",
   "metadata": {},
   "outputs": [
    {
     "name": "stdout",
     "output_type": "stream",
     "text": [
      "Loaded 8000 images with labels.\n"
     ]
    }
   ],
   "source": [
    "print(f\"Loaded {len(images)} images with labels.\")"
   ]
  },
  {
   "cell_type": "code",
   "execution_count": 13,
   "id": "48212526",
   "metadata": {},
   "outputs": [
    {
     "name": "stdout",
     "output_type": "stream",
     "text": [
      "['nut' 'p' 'ux' 'uy'] ['clipped' 'remeshed'] ['high' 'low' 'medium']\n"
     ]
    }
   ],
   "source": [
    "labels = np.array(labels)\n",
    "print(np.unique(labels[:, 0]), np.unique(labels[:, 1]), np.unique(labels[:, 2])) "
   ]
  },
  {
   "cell_type": "code",
   "execution_count": 14,
   "id": "ee856dd0",
   "metadata": {},
   "outputs": [
    {
     "name": "stdout",
     "output_type": "stream",
     "text": [
      "Field Labels Shape: (8000, 4)\n",
      "Process Labels Shape: (8000, 2)\n",
      "Intensity Labels Shape: (8000, 3)\n",
      "\n",
      "Data split completed:\n",
      "Training set size: 5120 (64.0%)\n",
      "Validation set size: 1280 (16.0%)\n",
      "Test set size: 1600 (20.0%)\n",
      "Test set saved to: ./test_set_with_new_labels.csv\n",
      "\n",
      "Class distribution in training set (field): [1280 1280 1280 1280]\n",
      "Class distribution in validation set (field): [320 320 320 320]\n",
      "Class distribution in test set (field): [400 400 400 400]\n",
      "\n",
      "First 5 entries of test set:\n",
      "             image_name              label field_label process_label  \\\n",
      "0    105_clipped_Uy.png    uy_clipped_high          uy       clipped   \n",
      "1     64_clipped_Ux.png  ux_clipped_medium          ux       clipped   \n",
      "2    583_remeshed_p.png  p_remeshed_medium           p      remeshed   \n",
      "3    471_remeshed_p.png  p_remeshed_medium           p      remeshed   \n",
      "4  763_remeshed_nut.png  nut_remeshed_high         nut      remeshed   \n",
      "\n",
      "  intensity_label  \n",
      "0            high  \n",
      "1          medium  \n",
      "2          medium  \n",
      "3          medium  \n",
      "4            high  \n",
      "\n",
      "Data split completed:\n",
      "Training set size: 5120 (64.0%)\n",
      "Validation set size: 1280 (16.0%)\n",
      "Test set size: 1600 (20.0%)\n",
      "Test set saved to: ./test_set_with_new_labels.csv\n",
      "\n",
      "Class distribution in training set (field): [1280 1280 1280 1280]\n",
      "Class distribution in validation set (field): [320 320 320 320]\n",
      "Class distribution in test set (field): [400 400 400 400]\n",
      "\n",
      "First 5 entries of test set:\n",
      "             image_name              label field_label process_label  \\\n",
      "0    105_clipped_Uy.png    uy_clipped_high          uy       clipped   \n",
      "1     64_clipped_Ux.png  ux_clipped_medium          ux       clipped   \n",
      "2    583_remeshed_p.png  p_remeshed_medium           p      remeshed   \n",
      "3    471_remeshed_p.png  p_remeshed_medium           p      remeshed   \n",
      "4  763_remeshed_nut.png  nut_remeshed_high         nut      remeshed   \n",
      "\n",
      "  intensity_label  \n",
      "0            high  \n",
      "1          medium  \n",
      "2          medium  \n",
      "3          medium  \n",
      "4            high  \n"
     ]
    }
   ],
   "source": [
    "# Custom Train-Validation-Test Split\n",
    "import os\n",
    "import cv2\n",
    "import numpy as np\n",
    "import pandas as pd\n",
    "from sklearn.model_selection import train_test_split\n",
    "from tensorflow.keras.applications.vgg16 import VGG16, preprocess_input\n",
    "from tensorflow.keras.models import Model\n",
    "from tensorflow.keras.layers import Dense, Flatten\n",
    "from tensorflow.keras.optimizers.legacy import Adam\n",
    "from tensorflow.keras.utils import to_categorical\n",
    "from sklearn.preprocessing import LabelEncoder \n",
    "\n",
    "# Preprocess images for VGG16\n",
    "images_preprocessed = preprocess_input(images.copy())\n",
    "\n",
    "# 1. Split the labels into their components\n",
    "fields = np.unique(labels[:, 0])     # e.g., ['p', 'nut', 'ux', 'uy']\n",
    "processes = np.unique(labels[:, 1])  # e.g., ['remeshed', 'clipped']\n",
    "intensities = np.unique(labels[:, 2]) # e.g., ['low', 'high', 'medium']\n",
    "\n",
    "# 2. Create and fit a separate encoder for each task\n",
    "field_encoder = LabelEncoder()\n",
    "process_encoder = LabelEncoder()\n",
    "intensity_encoder = LabelEncoder()\n",
    "\n",
    "# Fit encoders on all possible unique values for each task\n",
    "field_encoder.fit(fields)\n",
    "process_encoder.fit(processes)\n",
    "intensity_encoder.fit(intensities)\n",
    "\n",
    "# 3. Transform the original labels for each task\n",
    "y_field_int = field_encoder.transform(labels[:, 0])\n",
    "y_process_int = process_encoder.transform(labels[:, 1])\n",
    "y_intensity_int = intensity_encoder.transform(labels[:, 2])\n",
    "\n",
    "# 4. One-hot encode each integer list\n",
    "y_field = to_categorical(y_field_int, num_classes=len(fields))\n",
    "y_process = to_categorical(y_process_int, num_classes=len(processes))\n",
    "y_intensity = to_categorical(y_intensity_int, num_classes=len(intensities))\n",
    " \n",
    "print(\"Field Labels Shape:\", y_field.shape)\n",
    "print(\"Process Labels Shape:\", y_process.shape)\n",
    "print(\"Intensity Labels Shape:\", y_intensity.shape)\n",
    "\n",
    "# Create indices for stratified splitting\n",
    "indices = np.arange(len(images))\n",
    "\n",
    "# Stratify based on the 'field' label, which is less likely to have unique instances\n",
    "stratify_labels = y_field_int\n",
    "\n",
    "# First split: separate test set (20% of total data)\n",
    "train_val_indices, test_indices = train_test_split(\n",
    "    indices, \n",
    "    test_size=0.2, \n",
    "    random_state=42, \n",
    "    stratify=stratify_labels\n",
    ")\n",
    "\n",
    "# Second split: divide remaining data into train (64%) and validation (16%)\n",
    "train_indices, val_indices = train_test_split(\n",
    "    train_val_indices, \n",
    "    test_size=0.2,  # 20% of the remaining 80% = 16% of total\n",
    "    random_state=42, \n",
    "    stratify=stratify_labels[train_val_indices]\n",
    ")\n",
    "\n",
    "# Split the input images\n",
    "X_train = images_preprocessed[train_indices]\n",
    "X_val = images_preprocessed[val_indices]\n",
    "X_test = images_preprocessed[test_indices]\n",
    "\n",
    "# CRITICAL: Split each of the three one-hot encoded label sets\n",
    "y_field_train, y_field_val, y_field_test = y_field[train_indices], y_field[val_indices], y_field[test_indices]\n",
    "y_process_train, y_process_val, y_process_test = y_process[train_indices], y_process[val_indices], y_process[test_indices]\n",
    "y_intensity_train, y_intensity_val, y_intensity_test = y_intensity[train_indices], y_intensity[val_indices], y_intensity[test_indices]\n",
    "\n",
    "# You can now prepare the label dictionaries for model.fit()\n",
    "y_train_dict = {\n",
    "    'field_output': y_field_train,\n",
    "    'process_output': y_process_train,\n",
    "    'intensity_output': y_intensity_train\n",
    "}\n",
    "y_val_dict = {\n",
    "    'field_output': y_field_val,\n",
    "    'process_output': y_process_val,\n",
    "    'intensity_output': y_intensity_val\n",
    "}\n",
    "y_test_dict = {\n",
    "    'field_output': y_field_test,\n",
    "    'process_output': y_process_test,\n",
    "    'intensity_output': y_intensity_test\n",
    "}\n",
    "\n",
    "# Create test set CSV\n",
    "test_df = pd.DataFrame({\n",
    "    'image_name': [image_names[i] for i in test_indices],\n",
    "    'label': [\"_\".join(l) for l in labels[test_indices]],\n",
    "    'field_label': field_encoder.inverse_transform(y_field_test.argmax(axis=1)),\n",
    "    'process_label': process_encoder.inverse_transform(y_process_test.argmax(axis=1)),\n",
    "    'intensity_label': intensity_encoder.inverse_transform(y_intensity_test.argmax(axis=1))\n",
    "})\n",
    "\n",
    "# Save test set to CSV\n",
    "test_csv_path = './test_set_with_new_labels.csv'\n",
    "test_df.to_csv(test_csv_path, index=False)\n",
    "\n",
    "print(f\"\\nData split completed:\")\n",
    "print(f\"Training set size: {len(X_train)} ({len(X_train)/len(images)*100:.1f}%)\")\n",
    "print(f\"Validation set size: {len(X_val)} ({len(X_val)/len(images)*100:.1f}%)\")\n",
    "print(f\"Test set size: {len(X_test)} ({len(X_test)/len(images)*100:.1f}%)\")\n",
    "print(f\"Test set saved to: {test_csv_path}\")\n",
    "\n",
    "# Verify class distribution in each split\n",
    "print(f\"\\nClass distribution in training set (field): {np.bincount(y_field_train.argmax(axis=1))}\")\n",
    "print(f\"Class distribution in validation set (field): {np.bincount(y_field_val.argmax(axis=1))}\")\n",
    "print(f\"Class distribution in test set (field): {np.bincount(y_field_test.argmax(axis=1))}\")\n",
    "\n",
    "# Display first few entries of test set\n",
    "print(f\"\\nFirst 5 entries of test set:\")\n",
    "print(test_df.head())"
   ]
  },
  {
   "cell_type": "code",
   "execution_count": null,
   "id": "e89aaf8e",
   "metadata": {},
   "outputs": [
    {
     "name": "stdout",
     "output_type": "stream",
     "text": [
      "Model architecture:\n",
      "Input shape: (None, 224, 224, 3)\n",
      "Output shape: [(None, 4), (None, 2), (None, 3)]\n",
      "Total trainable parameters: 14940489\n",
      "\n",
      "Starting training...\n",
      "Epoch 1/10\n",
      "Epoch 1/10\n"
     ]
    },
    {
     "name": "stderr",
     "output_type": "stream",
     "text": [
      "2025-07-20 17:13:00.507160: I tensorflow/core/grappler/optimizers/custom_graph_optimizer_registry.cc:114] Plugin optimizer for device_type GPU is enabled.\n"
     ]
    },
    {
     "name": "stdout",
     "output_type": "stream",
     "text": [
      "640/640 [==============================] - ETA: 0s - loss: 1.9663 - field_output_loss: 0.0640 - process_output_loss: 1.1695 - intensity_output_loss: 0.7328 - field_output_accuracy: 0.9859 - process_output_accuracy: 0.5738 - intensity_output_accuracy: 0.8150"
     ]
    },
    {
     "name": "stderr",
     "output_type": "stream",
     "text": [
      "2025-07-20 17:14:17.385304: I tensorflow/core/grappler/optimizers/custom_graph_optimizer_registry.cc:114] Plugin optimizer for device_type GPU is enabled.\n"
     ]
    },
    {
     "name": "stdout",
     "output_type": "stream",
     "text": [
      "640/640 [==============================] - 96s 149ms/step - loss: 1.9663 - field_output_loss: 0.0640 - process_output_loss: 1.1695 - intensity_output_loss: 0.7328 - field_output_accuracy: 0.9859 - process_output_accuracy: 0.5738 - intensity_output_accuracy: 0.8150 - val_loss: 1.7540 - val_field_output_loss: 0.0013 - val_process_output_loss: 0.9198 - val_intensity_output_loss: 0.8329 - val_field_output_accuracy: 1.0000 - val_process_output_accuracy: 0.6086 - val_intensity_output_accuracy: 0.8055\n",
      "Epoch 2/10\n",
      "Epoch 2/10\n",
      "640/640 [==============================] - 94s 147ms/step - loss: 1.3844 - field_output_loss: 0.0013 - process_output_loss: 0.8099 - intensity_output_loss: 0.5731 - field_output_accuracy: 0.9998 - process_output_accuracy: 0.6482 - intensity_output_accuracy: 0.8373 - val_loss: 1.7357 - val_field_output_loss: 0.0047 - val_process_output_loss: 0.7759 - val_intensity_output_loss: 0.9552 - val_field_output_accuracy: 0.9992 - val_process_output_accuracy: 0.6539 - val_intensity_output_accuracy: 0.8156\n",
      "Epoch 3/10\n",
      "640/640 [==============================] - 94s 147ms/step - loss: 1.3844 - field_output_loss: 0.0013 - process_output_loss: 0.8099 - intensity_output_loss: 0.5731 - field_output_accuracy: 0.9998 - process_output_accuracy: 0.6482 - intensity_output_accuracy: 0.8373 - val_loss: 1.7357 - val_field_output_loss: 0.0047 - val_process_output_loss: 0.7759 - val_intensity_output_loss: 0.9552 - val_field_output_accuracy: 0.9992 - val_process_output_accuracy: 0.6539 - val_intensity_output_accuracy: 0.8156\n",
      "Epoch 3/10\n",
      "640/640 [==============================] - ETA: 0s - loss: 1.3060 - field_output_loss: 4.4008e-04 - process_output_loss: 0.7527 - intensity_output_loss: 0.5529 - field_output_accuracy: 1.0000 - process_output_accuracy: 0.6846 - intensity_output_accuracy: 0.8488"
     ]
    }
   ],
   "source": [
    "# Model Setup and Training\n",
    "# Load VGG16 model without the top classification layer\n",
    "base_model = VGG16(weights='imagenet', include_top=False, input_shape=(224, 224, 3))\n",
    "\n",
    "# Freeze the layers in the base model\n",
    "for layer in base_model.layers:\n",
    "    layer.trainable = False\n",
    "\n",
    "# Add custom layers for classification\n",
    "x = base_model.output\n",
    "x = Flatten()(x)\n",
    "# x = Dense(512, activation='relu')(x)\n",
    "\n",
    "# --- 2. Three Classifier Heads ---\n",
    "# Head for the 'field' task (4 classes)\n",
    "field_head = Dense(4, activation='softmax', name='field_output')(x)\n",
    "\n",
    "# Head for the 'process' task (2 classes)\n",
    "process_head = Dense(2, activation='softmax', name='process_output')(x)\n",
    "\n",
    "# Head for the 'intensity' task (3 classes)\n",
    "intensity_head = Dense(3, activation='softmax', name='intensity_output')(x)\n",
    "\n",
    "# predictions = Dense(num_classes, activation='softmax')(x)\n",
    "\n",
    "# Create the final model\n",
    "model = Model(inputs=base_model.input, outputs=[field_head, process_head, intensity_head])\n",
    "\n",
    "# Compile the model\n",
    "model.compile(optimizer=Adam(learning_rate=0.0001), \n",
    "              loss={\n",
    "                  'field_output': 'categorical_crossentropy',\n",
    "                  'process_output': 'categorical_crossentropy',\n",
    "                  'intensity_output': 'categorical_crossentropy'\n",
    "              }, \n",
    "              metrics=['accuracy'])\n",
    "\n",
    "# Display model summary\n",
    "print(\"Model architecture:\")\n",
    "print(f\"Input shape: {model.input_shape}\")\n",
    "print(f\"Output shape: {model.output_shape}\")\n",
    "print(f\"Total trainable parameters: {model.count_params()}\")\n",
    "\n",
    "# Train the model and capture history\n",
    "print(\"\\nStarting training...\")\n",
    "history_10 = model.fit(X_train, y_train_dict, validation_data=(X_val, y_val_dict), epochs=10, batch_size=8, verbose=1)"
   ]
  },
  {
   "cell_type": "code",
   "execution_count": null,
   "id": "f44f3a76",
   "metadata": {},
   "outputs": [
    {
     "name": "stdout",
     "output_type": "stream",
     "text": [
      "Epoch 1/40\n",
      "640/640 [==============================] - 99s 154ms/step - loss: 0.8327 - field_output_loss: 2.1246e-05 - process_output_loss: 0.4736 - intensity_output_loss: 0.3591 - field_output_accuracy: 1.0000 - process_output_accuracy: 0.7957 - intensity_output_accuracy: 0.8869 - val_loss: 1.2776 - val_field_output_loss: 2.2497e-05 - val_process_output_loss: 0.6551 - val_intensity_output_loss: 0.6224 - val_field_output_accuracy: 1.0000 - val_process_output_accuracy: 0.7445 - val_intensity_output_accuracy: 0.8219\n",
      "Epoch 2/40\n",
      "640/640 [==============================] - 99s 154ms/step - loss: 0.8327 - field_output_loss: 2.1246e-05 - process_output_loss: 0.4736 - intensity_output_loss: 0.3591 - field_output_accuracy: 1.0000 - process_output_accuracy: 0.7957 - intensity_output_accuracy: 0.8869 - val_loss: 1.2776 - val_field_output_loss: 2.2497e-05 - val_process_output_loss: 0.6551 - val_intensity_output_loss: 0.6224 - val_field_output_accuracy: 1.0000 - val_process_output_accuracy: 0.7445 - val_intensity_output_accuracy: 0.8219\n",
      "Epoch 2/40\n",
      "640/640 [==============================] - 98s 154ms/step - loss: 0.8515 - field_output_loss: 1.3248e-05 - process_output_loss: 0.4928 - intensity_output_loss: 0.3587 - field_output_accuracy: 1.0000 - process_output_accuracy: 0.7988 - intensity_output_accuracy: 0.8914 - val_loss: 0.9404 - val_field_output_loss: 1.9049e-05 - val_process_output_loss: 0.5592 - val_intensity_output_loss: 0.3812 - val_field_output_accuracy: 1.0000 - val_process_output_accuracy: 0.7430 - val_intensity_output_accuracy: 0.8727\n",
      "Epoch 3/40\n",
      "640/640 [==============================] - 98s 154ms/step - loss: 0.8515 - field_output_loss: 1.3248e-05 - process_output_loss: 0.4928 - intensity_output_loss: 0.3587 - field_output_accuracy: 1.0000 - process_output_accuracy: 0.7988 - intensity_output_accuracy: 0.8914 - val_loss: 0.9404 - val_field_output_loss: 1.9049e-05 - val_process_output_loss: 0.5592 - val_intensity_output_loss: 0.3812 - val_field_output_accuracy: 1.0000 - val_process_output_accuracy: 0.7430 - val_intensity_output_accuracy: 0.8727\n",
      "Epoch 3/40\n",
      "536/640 [========================>.....] - ETA: 12s - loss: 0.7998 - field_output_loss: 8.7273e-06 - process_output_loss: 0.4386 - intensity_output_loss: 0.3612 - field_output_accuracy: 1.0000 - process_output_accuracy: 0.8069 - intensity_output_accuracy: 0.8895"
     ]
    },
    {
     "ename": "KeyboardInterrupt",
     "evalue": "",
     "output_type": "error",
     "traceback": [
      "\u001b[0;31m---------------------------------------------------------------------------\u001b[0m",
      "\u001b[0;31mKeyboardInterrupt\u001b[0m                         Traceback (most recent call last)",
      "Cell \u001b[0;32mIn[8], line 2\u001b[0m\n\u001b[1;32m      1\u001b[0m \u001b[38;5;66;03m# continue with 50 epochs and save the model\u001b[39;00m\n\u001b[0;32m----> 2\u001b[0m history_50 \u001b[38;5;241m=\u001b[39m \u001b[43mmodel\u001b[49m\u001b[38;5;241;43m.\u001b[39;49m\u001b[43mfit\u001b[49m\u001b[43m(\u001b[49m\u001b[43mX_train\u001b[49m\u001b[43m,\u001b[49m\u001b[43m \u001b[49m\u001b[43my_train_dict\u001b[49m\u001b[43m,\u001b[49m\u001b[43m \u001b[49m\u001b[43mvalidation_data\u001b[49m\u001b[38;5;241;43m=\u001b[39;49m\u001b[43m(\u001b[49m\u001b[43mX_val\u001b[49m\u001b[43m,\u001b[49m\u001b[43m \u001b[49m\u001b[43my_val_dict\u001b[49m\u001b[43m)\u001b[49m\u001b[43m,\u001b[49m\u001b[43m \u001b[49m\u001b[43mepochs\u001b[49m\u001b[38;5;241;43m=\u001b[39;49m\u001b[38;5;241;43m40\u001b[39;49m\u001b[43m,\u001b[49m\u001b[43m \u001b[49m\u001b[43mbatch_size\u001b[49m\u001b[38;5;241;43m=\u001b[39;49m\u001b[38;5;241;43m8\u001b[39;49m\u001b[43m,\u001b[49m\u001b[43m \u001b[49m\u001b[43mverbose\u001b[49m\u001b[38;5;241;43m=\u001b[39;49m\u001b[38;5;241;43m1\u001b[39;49m\u001b[43m)\u001b[49m\n",
      "File \u001b[0;32m~/Files/Lectures/Thesis/AirfranceDatasetAnalysis/.conda/lib/python3.8/site-packages/keras/src/utils/traceback_utils.py:65\u001b[0m, in \u001b[0;36mfilter_traceback.<locals>.error_handler\u001b[0;34m(*args, **kwargs)\u001b[0m\n\u001b[1;32m     63\u001b[0m filtered_tb \u001b[38;5;241m=\u001b[39m \u001b[38;5;28;01mNone\u001b[39;00m\n\u001b[1;32m     64\u001b[0m \u001b[38;5;28;01mtry\u001b[39;00m:\n\u001b[0;32m---> 65\u001b[0m     \u001b[38;5;28;01mreturn\u001b[39;00m \u001b[43mfn\u001b[49m\u001b[43m(\u001b[49m\u001b[38;5;241;43m*\u001b[39;49m\u001b[43margs\u001b[49m\u001b[43m,\u001b[49m\u001b[43m \u001b[49m\u001b[38;5;241;43m*\u001b[39;49m\u001b[38;5;241;43m*\u001b[39;49m\u001b[43mkwargs\u001b[49m\u001b[43m)\u001b[49m\n\u001b[1;32m     66\u001b[0m \u001b[38;5;28;01mexcept\u001b[39;00m \u001b[38;5;167;01mException\u001b[39;00m \u001b[38;5;28;01mas\u001b[39;00m e:\n\u001b[1;32m     67\u001b[0m     filtered_tb \u001b[38;5;241m=\u001b[39m _process_traceback_frames(e\u001b[38;5;241m.\u001b[39m__traceback__)\n",
      "File \u001b[0;32m~/Files/Lectures/Thesis/AirfranceDatasetAnalysis/.conda/lib/python3.8/site-packages/keras/src/engine/training.py:1742\u001b[0m, in \u001b[0;36mModel.fit\u001b[0;34m(self, x, y, batch_size, epochs, verbose, callbacks, validation_split, validation_data, shuffle, class_weight, sample_weight, initial_epoch, steps_per_epoch, validation_steps, validation_batch_size, validation_freq, max_queue_size, workers, use_multiprocessing)\u001b[0m\n\u001b[1;32m   1734\u001b[0m \u001b[38;5;28;01mwith\u001b[39;00m tf\u001b[38;5;241m.\u001b[39mprofiler\u001b[38;5;241m.\u001b[39mexperimental\u001b[38;5;241m.\u001b[39mTrace(\n\u001b[1;32m   1735\u001b[0m     \u001b[38;5;124m\"\u001b[39m\u001b[38;5;124mtrain\u001b[39m\u001b[38;5;124m\"\u001b[39m,\n\u001b[1;32m   1736\u001b[0m     epoch_num\u001b[38;5;241m=\u001b[39mepoch,\n\u001b[0;32m   (...)\u001b[0m\n\u001b[1;32m   1739\u001b[0m     _r\u001b[38;5;241m=\u001b[39m\u001b[38;5;241m1\u001b[39m,\n\u001b[1;32m   1740\u001b[0m ):\n\u001b[1;32m   1741\u001b[0m     callbacks\u001b[38;5;241m.\u001b[39mon_train_batch_begin(step)\n\u001b[0;32m-> 1742\u001b[0m     tmp_logs \u001b[38;5;241m=\u001b[39m \u001b[38;5;28;43mself\u001b[39;49m\u001b[38;5;241;43m.\u001b[39;49m\u001b[43mtrain_function\u001b[49m\u001b[43m(\u001b[49m\u001b[43miterator\u001b[49m\u001b[43m)\u001b[49m\n\u001b[1;32m   1743\u001b[0m     \u001b[38;5;28;01mif\u001b[39;00m data_handler\u001b[38;5;241m.\u001b[39mshould_sync:\n\u001b[1;32m   1744\u001b[0m         context\u001b[38;5;241m.\u001b[39masync_wait()\n",
      "File \u001b[0;32m~/Files/Lectures/Thesis/AirfranceDatasetAnalysis/.conda/lib/python3.8/site-packages/tensorflow/python/util/traceback_utils.py:150\u001b[0m, in \u001b[0;36mfilter_traceback.<locals>.error_handler\u001b[0;34m(*args, **kwargs)\u001b[0m\n\u001b[1;32m    148\u001b[0m filtered_tb \u001b[38;5;241m=\u001b[39m \u001b[38;5;28;01mNone\u001b[39;00m\n\u001b[1;32m    149\u001b[0m \u001b[38;5;28;01mtry\u001b[39;00m:\n\u001b[0;32m--> 150\u001b[0m   \u001b[38;5;28;01mreturn\u001b[39;00m \u001b[43mfn\u001b[49m\u001b[43m(\u001b[49m\u001b[38;5;241;43m*\u001b[39;49m\u001b[43margs\u001b[49m\u001b[43m,\u001b[49m\u001b[43m \u001b[49m\u001b[38;5;241;43m*\u001b[39;49m\u001b[38;5;241;43m*\u001b[39;49m\u001b[43mkwargs\u001b[49m\u001b[43m)\u001b[49m\n\u001b[1;32m    151\u001b[0m \u001b[38;5;28;01mexcept\u001b[39;00m \u001b[38;5;167;01mException\u001b[39;00m \u001b[38;5;28;01mas\u001b[39;00m e:\n\u001b[1;32m    152\u001b[0m   filtered_tb \u001b[38;5;241m=\u001b[39m _process_traceback_frames(e\u001b[38;5;241m.\u001b[39m__traceback__)\n",
      "File \u001b[0;32m~/Files/Lectures/Thesis/AirfranceDatasetAnalysis/.conda/lib/python3.8/site-packages/tensorflow/python/eager/polymorphic_function/polymorphic_function.py:825\u001b[0m, in \u001b[0;36mFunction.__call__\u001b[0;34m(self, *args, **kwds)\u001b[0m\n\u001b[1;32m    822\u001b[0m compiler \u001b[38;5;241m=\u001b[39m \u001b[38;5;124m\"\u001b[39m\u001b[38;5;124mxla\u001b[39m\u001b[38;5;124m\"\u001b[39m \u001b[38;5;28;01mif\u001b[39;00m \u001b[38;5;28mself\u001b[39m\u001b[38;5;241m.\u001b[39m_jit_compile \u001b[38;5;28;01melse\u001b[39;00m \u001b[38;5;124m\"\u001b[39m\u001b[38;5;124mnonXla\u001b[39m\u001b[38;5;124m\"\u001b[39m\n\u001b[1;32m    824\u001b[0m \u001b[38;5;28;01mwith\u001b[39;00m OptionalXlaContext(\u001b[38;5;28mself\u001b[39m\u001b[38;5;241m.\u001b[39m_jit_compile):\n\u001b[0;32m--> 825\u001b[0m   result \u001b[38;5;241m=\u001b[39m \u001b[38;5;28;43mself\u001b[39;49m\u001b[38;5;241;43m.\u001b[39;49m\u001b[43m_call\u001b[49m\u001b[43m(\u001b[49m\u001b[38;5;241;43m*\u001b[39;49m\u001b[43margs\u001b[49m\u001b[43m,\u001b[49m\u001b[43m \u001b[49m\u001b[38;5;241;43m*\u001b[39;49m\u001b[38;5;241;43m*\u001b[39;49m\u001b[43mkwds\u001b[49m\u001b[43m)\u001b[49m\n\u001b[1;32m    827\u001b[0m new_tracing_count \u001b[38;5;241m=\u001b[39m \u001b[38;5;28mself\u001b[39m\u001b[38;5;241m.\u001b[39mexperimental_get_tracing_count()\n\u001b[1;32m    828\u001b[0m without_tracing \u001b[38;5;241m=\u001b[39m (tracing_count \u001b[38;5;241m==\u001b[39m new_tracing_count)\n",
      "File \u001b[0;32m~/Files/Lectures/Thesis/AirfranceDatasetAnalysis/.conda/lib/python3.8/site-packages/tensorflow/python/eager/polymorphic_function/polymorphic_function.py:857\u001b[0m, in \u001b[0;36mFunction._call\u001b[0;34m(self, *args, **kwds)\u001b[0m\n\u001b[1;32m    854\u001b[0m   \u001b[38;5;28mself\u001b[39m\u001b[38;5;241m.\u001b[39m_lock\u001b[38;5;241m.\u001b[39mrelease()\n\u001b[1;32m    855\u001b[0m   \u001b[38;5;66;03m# In this case we have created variables on the first call, so we run the\u001b[39;00m\n\u001b[1;32m    856\u001b[0m   \u001b[38;5;66;03m# defunned version which is guaranteed to never create variables.\u001b[39;00m\n\u001b[0;32m--> 857\u001b[0m   \u001b[38;5;28;01mreturn\u001b[39;00m \u001b[38;5;28;43mself\u001b[39;49m\u001b[38;5;241;43m.\u001b[39;49m\u001b[43m_no_variable_creation_fn\u001b[49m\u001b[43m(\u001b[49m\u001b[38;5;241;43m*\u001b[39;49m\u001b[43margs\u001b[49m\u001b[43m,\u001b[49m\u001b[43m \u001b[49m\u001b[38;5;241;43m*\u001b[39;49m\u001b[38;5;241;43m*\u001b[39;49m\u001b[43mkwds\u001b[49m\u001b[43m)\u001b[49m  \u001b[38;5;66;03m# pylint: disable=not-callable\u001b[39;00m\n\u001b[1;32m    858\u001b[0m \u001b[38;5;28;01melif\u001b[39;00m \u001b[38;5;28mself\u001b[39m\u001b[38;5;241m.\u001b[39m_variable_creation_fn \u001b[38;5;129;01mis\u001b[39;00m \u001b[38;5;129;01mnot\u001b[39;00m \u001b[38;5;28;01mNone\u001b[39;00m:\n\u001b[1;32m    859\u001b[0m   \u001b[38;5;66;03m# Release the lock early so that multiple threads can perform the call\u001b[39;00m\n\u001b[1;32m    860\u001b[0m   \u001b[38;5;66;03m# in parallel.\u001b[39;00m\n\u001b[1;32m    861\u001b[0m   \u001b[38;5;28mself\u001b[39m\u001b[38;5;241m.\u001b[39m_lock\u001b[38;5;241m.\u001b[39mrelease()\n",
      "File \u001b[0;32m~/Files/Lectures/Thesis/AirfranceDatasetAnalysis/.conda/lib/python3.8/site-packages/tensorflow/python/eager/polymorphic_function/tracing_compiler.py:148\u001b[0m, in \u001b[0;36mTracingCompiler.__call__\u001b[0;34m(self, *args, **kwargs)\u001b[0m\n\u001b[1;32m    145\u001b[0m \u001b[38;5;28;01mwith\u001b[39;00m \u001b[38;5;28mself\u001b[39m\u001b[38;5;241m.\u001b[39m_lock:\n\u001b[1;32m    146\u001b[0m   (concrete_function,\n\u001b[1;32m    147\u001b[0m    filtered_flat_args) \u001b[38;5;241m=\u001b[39m \u001b[38;5;28mself\u001b[39m\u001b[38;5;241m.\u001b[39m_maybe_define_function(args, kwargs)\n\u001b[0;32m--> 148\u001b[0m \u001b[38;5;28;01mreturn\u001b[39;00m \u001b[43mconcrete_function\u001b[49m\u001b[38;5;241;43m.\u001b[39;49m\u001b[43m_call_flat\u001b[49m\u001b[43m(\u001b[49m\n\u001b[1;32m    149\u001b[0m \u001b[43m    \u001b[49m\u001b[43mfiltered_flat_args\u001b[49m\u001b[43m,\u001b[49m\u001b[43m \u001b[49m\u001b[43mcaptured_inputs\u001b[49m\u001b[38;5;241;43m=\u001b[39;49m\u001b[43mconcrete_function\u001b[49m\u001b[38;5;241;43m.\u001b[39;49m\u001b[43mcaptured_inputs\u001b[49m\u001b[43m)\u001b[49m\n",
      "File \u001b[0;32m~/Files/Lectures/Thesis/AirfranceDatasetAnalysis/.conda/lib/python3.8/site-packages/tensorflow/python/eager/polymorphic_function/monomorphic_function.py:1349\u001b[0m, in \u001b[0;36mConcreteFunction._call_flat\u001b[0;34m(self, args, captured_inputs)\u001b[0m\n\u001b[1;32m   1345\u001b[0m possible_gradient_type \u001b[38;5;241m=\u001b[39m gradients_util\u001b[38;5;241m.\u001b[39mPossibleTapeGradientTypes(args)\n\u001b[1;32m   1346\u001b[0m \u001b[38;5;28;01mif\u001b[39;00m (possible_gradient_type \u001b[38;5;241m==\u001b[39m gradients_util\u001b[38;5;241m.\u001b[39mPOSSIBLE_GRADIENT_TYPES_NONE\n\u001b[1;32m   1347\u001b[0m     \u001b[38;5;129;01mand\u001b[39;00m executing_eagerly):\n\u001b[1;32m   1348\u001b[0m   \u001b[38;5;66;03m# No tape is watching; skip to running the function.\u001b[39;00m\n\u001b[0;32m-> 1349\u001b[0m   \u001b[38;5;28;01mreturn\u001b[39;00m \u001b[38;5;28mself\u001b[39m\u001b[38;5;241m.\u001b[39m_build_call_outputs(\u001b[38;5;28;43mself\u001b[39;49m\u001b[38;5;241;43m.\u001b[39;49m\u001b[43m_inference_function\u001b[49m\u001b[43m(\u001b[49m\u001b[38;5;241;43m*\u001b[39;49m\u001b[43margs\u001b[49m\u001b[43m)\u001b[49m)\n\u001b[1;32m   1350\u001b[0m forward_backward \u001b[38;5;241m=\u001b[39m \u001b[38;5;28mself\u001b[39m\u001b[38;5;241m.\u001b[39m_select_forward_and_backward_functions(\n\u001b[1;32m   1351\u001b[0m     args,\n\u001b[1;32m   1352\u001b[0m     possible_gradient_type,\n\u001b[1;32m   1353\u001b[0m     executing_eagerly)\n\u001b[1;32m   1354\u001b[0m forward_function, args_with_tangents \u001b[38;5;241m=\u001b[39m forward_backward\u001b[38;5;241m.\u001b[39mforward()\n",
      "File \u001b[0;32m~/Files/Lectures/Thesis/AirfranceDatasetAnalysis/.conda/lib/python3.8/site-packages/tensorflow/python/eager/polymorphic_function/atomic_function.py:196\u001b[0m, in \u001b[0;36mAtomicFunction.__call__\u001b[0;34m(self, *args)\u001b[0m\n\u001b[1;32m    194\u001b[0m \u001b[38;5;28;01mwith\u001b[39;00m record\u001b[38;5;241m.\u001b[39mstop_recording():\n\u001b[1;32m    195\u001b[0m   \u001b[38;5;28;01mif\u001b[39;00m \u001b[38;5;28mself\u001b[39m\u001b[38;5;241m.\u001b[39m_bound_context\u001b[38;5;241m.\u001b[39mexecuting_eagerly():\n\u001b[0;32m--> 196\u001b[0m     outputs \u001b[38;5;241m=\u001b[39m \u001b[38;5;28;43mself\u001b[39;49m\u001b[38;5;241;43m.\u001b[39;49m\u001b[43m_bound_context\u001b[49m\u001b[38;5;241;43m.\u001b[39;49m\u001b[43mcall_function\u001b[49m\u001b[43m(\u001b[49m\n\u001b[1;32m    197\u001b[0m \u001b[43m        \u001b[49m\u001b[38;5;28;43mself\u001b[39;49m\u001b[38;5;241;43m.\u001b[39;49m\u001b[43mname\u001b[49m\u001b[43m,\u001b[49m\n\u001b[1;32m    198\u001b[0m \u001b[43m        \u001b[49m\u001b[38;5;28;43mlist\u001b[39;49m\u001b[43m(\u001b[49m\u001b[43margs\u001b[49m\u001b[43m)\u001b[49m\u001b[43m,\u001b[49m\n\u001b[1;32m    199\u001b[0m \u001b[43m        \u001b[49m\u001b[38;5;28;43mlen\u001b[39;49m\u001b[43m(\u001b[49m\u001b[38;5;28;43mself\u001b[39;49m\u001b[38;5;241;43m.\u001b[39;49m\u001b[43mfunction_type\u001b[49m\u001b[38;5;241;43m.\u001b[39;49m\u001b[43mflat_outputs\u001b[49m\u001b[43m)\u001b[49m\u001b[43m,\u001b[49m\n\u001b[1;32m    200\u001b[0m \u001b[43m    \u001b[49m\u001b[43m)\u001b[49m\n\u001b[1;32m    201\u001b[0m   \u001b[38;5;28;01melse\u001b[39;00m:\n\u001b[1;32m    202\u001b[0m     outputs \u001b[38;5;241m=\u001b[39m make_call_op_in_graph(\u001b[38;5;28mself\u001b[39m, \u001b[38;5;28mlist\u001b[39m(args))\n",
      "File \u001b[0;32m~/Files/Lectures/Thesis/AirfranceDatasetAnalysis/.conda/lib/python3.8/site-packages/tensorflow/python/eager/context.py:1457\u001b[0m, in \u001b[0;36mContext.call_function\u001b[0;34m(self, name, tensor_inputs, num_outputs)\u001b[0m\n\u001b[1;32m   1455\u001b[0m cancellation_context \u001b[38;5;241m=\u001b[39m cancellation\u001b[38;5;241m.\u001b[39mcontext()\n\u001b[1;32m   1456\u001b[0m \u001b[38;5;28;01mif\u001b[39;00m cancellation_context \u001b[38;5;129;01mis\u001b[39;00m \u001b[38;5;28;01mNone\u001b[39;00m:\n\u001b[0;32m-> 1457\u001b[0m   outputs \u001b[38;5;241m=\u001b[39m \u001b[43mexecute\u001b[49m\u001b[38;5;241;43m.\u001b[39;49m\u001b[43mexecute\u001b[49m\u001b[43m(\u001b[49m\n\u001b[1;32m   1458\u001b[0m \u001b[43m      \u001b[49m\u001b[43mname\u001b[49m\u001b[38;5;241;43m.\u001b[39;49m\u001b[43mdecode\u001b[49m\u001b[43m(\u001b[49m\u001b[38;5;124;43m\"\u001b[39;49m\u001b[38;5;124;43mutf-8\u001b[39;49m\u001b[38;5;124;43m\"\u001b[39;49m\u001b[43m)\u001b[49m\u001b[43m,\u001b[49m\n\u001b[1;32m   1459\u001b[0m \u001b[43m      \u001b[49m\u001b[43mnum_outputs\u001b[49m\u001b[38;5;241;43m=\u001b[39;49m\u001b[43mnum_outputs\u001b[49m\u001b[43m,\u001b[49m\n\u001b[1;32m   1460\u001b[0m \u001b[43m      \u001b[49m\u001b[43minputs\u001b[49m\u001b[38;5;241;43m=\u001b[39;49m\u001b[43mtensor_inputs\u001b[49m\u001b[43m,\u001b[49m\n\u001b[1;32m   1461\u001b[0m \u001b[43m      \u001b[49m\u001b[43mattrs\u001b[49m\u001b[38;5;241;43m=\u001b[39;49m\u001b[43mattrs\u001b[49m\u001b[43m,\u001b[49m\n\u001b[1;32m   1462\u001b[0m \u001b[43m      \u001b[49m\u001b[43mctx\u001b[49m\u001b[38;5;241;43m=\u001b[39;49m\u001b[38;5;28;43mself\u001b[39;49m\u001b[43m,\u001b[49m\n\u001b[1;32m   1463\u001b[0m \u001b[43m  \u001b[49m\u001b[43m)\u001b[49m\n\u001b[1;32m   1464\u001b[0m \u001b[38;5;28;01melse\u001b[39;00m:\n\u001b[1;32m   1465\u001b[0m   outputs \u001b[38;5;241m=\u001b[39m execute\u001b[38;5;241m.\u001b[39mexecute_with_cancellation(\n\u001b[1;32m   1466\u001b[0m       name\u001b[38;5;241m.\u001b[39mdecode(\u001b[38;5;124m\"\u001b[39m\u001b[38;5;124mutf-8\u001b[39m\u001b[38;5;124m\"\u001b[39m),\n\u001b[1;32m   1467\u001b[0m       num_outputs\u001b[38;5;241m=\u001b[39mnum_outputs,\n\u001b[0;32m   (...)\u001b[0m\n\u001b[1;32m   1471\u001b[0m       cancellation_manager\u001b[38;5;241m=\u001b[39mcancellation_context,\n\u001b[1;32m   1472\u001b[0m   )\n",
      "File \u001b[0;32m~/Files/Lectures/Thesis/AirfranceDatasetAnalysis/.conda/lib/python3.8/site-packages/tensorflow/python/eager/execute.py:53\u001b[0m, in \u001b[0;36mquick_execute\u001b[0;34m(op_name, num_outputs, inputs, attrs, ctx, name)\u001b[0m\n\u001b[1;32m     51\u001b[0m \u001b[38;5;28;01mtry\u001b[39;00m:\n\u001b[1;32m     52\u001b[0m   ctx\u001b[38;5;241m.\u001b[39mensure_initialized()\n\u001b[0;32m---> 53\u001b[0m   tensors \u001b[38;5;241m=\u001b[39m \u001b[43mpywrap_tfe\u001b[49m\u001b[38;5;241;43m.\u001b[39;49m\u001b[43mTFE_Py_Execute\u001b[49m\u001b[43m(\u001b[49m\u001b[43mctx\u001b[49m\u001b[38;5;241;43m.\u001b[39;49m\u001b[43m_handle\u001b[49m\u001b[43m,\u001b[49m\u001b[43m \u001b[49m\u001b[43mdevice_name\u001b[49m\u001b[43m,\u001b[49m\u001b[43m \u001b[49m\u001b[43mop_name\u001b[49m\u001b[43m,\u001b[49m\n\u001b[1;32m     54\u001b[0m \u001b[43m                                      \u001b[49m\u001b[43minputs\u001b[49m\u001b[43m,\u001b[49m\u001b[43m \u001b[49m\u001b[43mattrs\u001b[49m\u001b[43m,\u001b[49m\u001b[43m \u001b[49m\u001b[43mnum_outputs\u001b[49m\u001b[43m)\u001b[49m\n\u001b[1;32m     55\u001b[0m \u001b[38;5;28;01mexcept\u001b[39;00m core\u001b[38;5;241m.\u001b[39m_NotOkStatusException \u001b[38;5;28;01mas\u001b[39;00m e:\n\u001b[1;32m     56\u001b[0m   \u001b[38;5;28;01mif\u001b[39;00m name \u001b[38;5;129;01mis\u001b[39;00m \u001b[38;5;129;01mnot\u001b[39;00m \u001b[38;5;28;01mNone\u001b[39;00m:\n",
      "\u001b[0;31mKeyboardInterrupt\u001b[0m: "
     ]
    }
   ],
   "source": [
    "# continue with 50 epochs and save the model\n",
    "history_50 = model.fit(X_train, y_train_dict, validation_data=(X_val, y_val_dict), epochs=40, batch_size=8, verbose=1)"
   ]
  },
  {
   "cell_type": "code",
   "execution_count": null,
   "id": "f1842af2",
   "metadata": {},
   "outputs": [
    {
     "name": "stderr",
     "output_type": "stream",
     "text": [
      "/Users/saikirannunemunthala/Files/Lectures/Thesis/AirfranceDatasetAnalysis/.conda/lib/python3.8/site-packages/keras/src/engine/training.py:3000: UserWarning: You are saving your model as an HDF5 file via `model.save()`. This file format is considered legacy. We recommend using instead the native Keras format, e.g. `model.save('my_model.keras')`.\n",
      "  saving_api.save_model(\n"
     ]
    },
    {
     "name": "stdout",
     "output_type": "stream",
     "text": [
      "Model training complete and saved as vgg16_finetuned_remeshed.h5\n"
     ]
    }
   ],
   "source": [
    "\n",
    "# Save the trained model\n",
    "model.save('vgg16_finetuned_3_encoders.h5')\n",
    "\n",
    "print(\"Model training complete and saved as vgg16_finetuned_3_encoders.h5\")"
   ]
  },
  {
   "cell_type": "code",
   "execution_count": null,
   "id": "5c8dee54",
   "metadata": {},
   "outputs": [],
   "source": [
    "# combile the history of all three training runs\n",
    "history_combined = {}\n",
    "for key in history_10.history.keys():\n",
    "    history_combined[key] = history_10.history[key] + history_50.history[key]\n"
   ]
  },
  {
   "cell_type": "code",
   "execution_count": null,
   "id": "c2f24e70",
   "metadata": {},
   "outputs": [
    {
     "data": {
      "image/png": "[encoded data removed]",
      "text/plain": [
       "<Figure size 1200x400 with 2 Axes>"
      ]
     },
     "metadata": {},
     "output_type": "display_data"
    },
    {
     "name": "stdout",
     "output_type": "stream",
     "text": [
      "Final Training Accuracy: 0.8611\n",
      "Final Validation Accuracy: 0.7703\n",
      "Final Training Loss: 0.3097\n",
      "Final Validation Loss: 0.5601\n"
     ]
    }
   ],
   "source": [
    "# Plot training history\n",
    "plt.figure(figsize=(15, 10))\n",
    "\n",
    "# Plot accuracies\n",
    "plt.subplot(2, 2, 1)\n",
    "plt.plot(history_combined['field_output_accuracy'], label='Field Training Accuracy')\n",
    "plt.plot(history_combined['val_field_output_accuracy'], label='Field Validation Accuracy')\n",
    "plt.title('Field Accuracy')\n",
    "plt.xlabel('Epoch')\n",
    "plt.ylabel('Accuracy')\n",
    "plt.legend()\n",
    "plt.grid(True)\n",
    "\n",
    "plt.subplot(2, 2, 2)\n",
    "plt.plot(history_combined['process_output_accuracy'], label='Process Training Accuracy')\n",
    "plt.plot(history_combined['val_process_output_accuracy'], label='Process Validation Accuracy')\n",
    "plt.title('Process Accuracy')\n",
    "plt.xlabel('Epoch')\n",
    "plt.ylabel('Accuracy')\n",
    "plt.legend()\n",
    "plt.grid(True)\n",
    "\n",
    "plt.subplot(2, 2, 3)\n",
    "plt.plot(history_combined['intensity_output_accuracy'], label='Intensity Training Accuracy')\n",
    "plt.plot(history_combined['val_intensity_output_accuracy'], label='Intensity Validation Accuracy')\n",
    "plt.title('Intensity Accuracy')\n",
    "plt.xlabel('Epoch')\n",
    "plt.ylabel('Accuracy')\n",
    "plt.legend()\n",
    "plt.grid(True)\n",
    "\n",
    "# Plot total loss\n",
    "plt.subplot(2, 2, 4)\n",
    "plt.plot(history_combined['loss'], label='Training Loss')\n",
    "plt.plot(history_combined['val_loss'], label='Validation Loss')\n",
    "plt.title('Total Model Loss')\n",
    "plt.xlabel('Epoch')\n",
    "plt.ylabel('Loss')\n",
    "plt.legend()\n",
    "plt.grid(True)\n",
    "\n",
    "plt.tight_layout()\n",
    "plt.show()\n",
    "\n",
    "# Print final metrics\n",
    "print(f\"Final Training Loss: {history_combined['loss'][-1]:.4f}\")\n",
    "print(f\"Final Validation Loss: {history_combined['val_loss'][-1]:.4f}\")\n",
    "print(\"\\n--- Final Accuracies ---\")\n",
    "print(f\"Field: Train={history_combined['field_output_accuracy'][-1]:.4f}, Val={history_combined['val_field_output_accuracy'][-1]:.4f}\")\n",
    "print(f\"Process: Train={history_combined['process_output_accuracy'][-1]:.4f}, Val={history_combined['val_process_output_accuracy'][-1]:.4f}\")\n",
    "print(f\"Intensity: Train={history_combined['intensity_output_accuracy'][-1]:.4f}, Val={history_combined['val_intensity_output_accuracy'][-1]:.4f}\")\n"
   ]
  },
  {
   "cell_type": "code",
   "execution_count": null,
   "id": "b77c4b9b",
   "metadata": {},
   "outputs": [],
   "source": []
  }
 ],
 "metadata": {
  "kernelspec": {
   "display_name": "Python 3",
   "language": "python",
   "name": "python3"
  },
  "language_info": {
   "codemirror_mode": {
    "name": "ipython",
    "version": 3
   },
   "file_extension": ".py",
   "mimetype": "text/x-python",
   "name": "python",
   "nbconvert_exporter": "python",
   "pygments_lexer": "ipython3",
   "version": "3.8.20"
  }
 },
 "nbformat": 4,
 "nbformat_minor": 5
}
